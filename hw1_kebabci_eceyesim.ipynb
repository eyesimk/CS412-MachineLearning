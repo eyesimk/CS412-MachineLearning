{
  "nbformat": 4,
  "nbformat_minor": 0,
  "metadata": {
    "colab": {
      "name": "hw1-kebabci-eceyesim",
      "provenance": [],
      "collapsed_sections": [],
      "toc_visible": true,
      "include_colab_link": true
    },
    "kernelspec": {
      "name": "python3",
      "display_name": "Python 3"
    },
    "accelerator": "GPU"
  },
  "cells": [
    {
      "cell_type": "markdown",
      "metadata": {
        "id": "view-in-github",
        "colab_type": "text"
      },
      "source": [
        "<a href=\"https://colab.research.google.com/github/eyesimk/CS412-MachineLearning/blob/main/hw1_kebabci_eceyesim.ipynb\" target=\"_parent\"><img src=\"https://colab.research.google.com/assets/colab-badge.svg\" alt=\"Open In Colab\"/></a>"
      ]
    },
    {
      "cell_type": "markdown",
      "metadata": {
        "id": "MM-wwHR8qL0M"
      },
      "source": [
        "## 1) Load training dataset\n",
        "\n",
        "*  Read from Keras library.\n",
        "\n"
      ]
    },
    {
      "cell_type": "code",
      "metadata": {
        "id": "Iz3iMpjVfa5I"
      },
      "source": [
        "# Load the Pandas libraries with alias 'pd' \n",
        "import pandas as pd \n",
        "import numpy as np\n",
        "from keras.datasets import mnist\n",
        "\n",
        "# Read data \n",
        "(x_train, y_train) , (x_test, y_test) = mnist.load_data()"
      ],
      "execution_count": null,
      "outputs": []
    },
    {
      "cell_type": "code",
      "metadata": {
        "id": "CA_AjGQasjvS",
        "colab": {
          "base_uri": "https://localhost:8080/",
          "height": 263
        },
        "outputId": "a0ed9457-7335-42a8-b25c-a662e50eb6b1"
      },
      "source": [
        "# print shape\n",
        "print('Data Dimensionality: ')\n",
        "print (\"Train X, Y shape: \", x_train.shape, y_train.shape )\n",
        "print (\"Test X, Y shape: \", x_test.shape, y_test.shape)\n",
        "\n",
        "\n",
        "# print first 5 rows in your dataset\n",
        "train_df = pd.DataFrame(x_train.reshape(60000, -1))\n",
        "train_df['label'] = y_train\n",
        "print('Head of Data: ')\n",
        "print(train_df.head())\n",
        "\n",
        "# print attribute names\n",
        "print (\"Attribute Names: \", train_df.columns.tolist())\n",
        "\n",
        "\n"
      ],
      "execution_count": null,
      "outputs": [
        {
          "output_type": "stream",
          "text": [
            "Data Dimensionality: \n",
            "Train X, Y shape:  (60000, 28, 28) (60000,)\n",
            "Test X, Y shape:  (10000, 28, 28) (10000,)\n",
            "Head of Data: \n",
            "   0  1  2  3  4  5  6  7  8  ...  776  777  778  779  780  781  782  783  label\n",
            "0  0  0  0  0  0  0  0  0  0  ...    0    0    0    0    0    0    0    0      5\n",
            "1  0  0  0  0  0  0  0  0  0  ...    0    0    0    0    0    0    0    0      0\n",
            "2  0  0  0  0  0  0  0  0  0  ...    0    0    0    0    0    0    0    0      4\n",
            "3  0  0  0  0  0  0  0  0  0  ...    0    0    0    0    0    0    0    0      1\n",
            "4  0  0  0  0  0  0  0  0  0  ...    0    0    0    0    0    0    0    0      9\n",
            "\n",
            "[5 rows x 785 columns]\n",
            "Attribute Names:  [0, 1, 2, 3, 4, 5, 6, 7, 8, 9, 10, 11, 12, 13, 14, 15, 16, 17, 18, 19, 20, 21, 22, 23, 24, 25, 26, 27, 28, 29, 30, 31, 32, 33, 34, 35, 36, 37, 38, 39, 40, 41, 42, 43, 44, 45, 46, 47, 48, 49, 50, 51, 52, 53, 54, 55, 56, 57, 58, 59, 60, 61, 62, 63, 64, 65, 66, 67, 68, 69, 70, 71, 72, 73, 74, 75, 76, 77, 78, 79, 80, 81, 82, 83, 84, 85, 86, 87, 88, 89, 90, 91, 92, 93, 94, 95, 96, 97, 98, 99, 100, 101, 102, 103, 104, 105, 106, 107, 108, 109, 110, 111, 112, 113, 114, 115, 116, 117, 118, 119, 120, 121, 122, 123, 124, 125, 126, 127, 128, 129, 130, 131, 132, 133, 134, 135, 136, 137, 138, 139, 140, 141, 142, 143, 144, 145, 146, 147, 148, 149, 150, 151, 152, 153, 154, 155, 156, 157, 158, 159, 160, 161, 162, 163, 164, 165, 166, 167, 168, 169, 170, 171, 172, 173, 174, 175, 176, 177, 178, 179, 180, 181, 182, 183, 184, 185, 186, 187, 188, 189, 190, 191, 192, 193, 194, 195, 196, 197, 198, 199, 200, 201, 202, 203, 204, 205, 206, 207, 208, 209, 210, 211, 212, 213, 214, 215, 216, 217, 218, 219, 220, 221, 222, 223, 224, 225, 226, 227, 228, 229, 230, 231, 232, 233, 234, 235, 236, 237, 238, 239, 240, 241, 242, 243, 244, 245, 246, 247, 248, 249, 250, 251, 252, 253, 254, 255, 256, 257, 258, 259, 260, 261, 262, 263, 264, 265, 266, 267, 268, 269, 270, 271, 272, 273, 274, 275, 276, 277, 278, 279, 280, 281, 282, 283, 284, 285, 286, 287, 288, 289, 290, 291, 292, 293, 294, 295, 296, 297, 298, 299, 300, 301, 302, 303, 304, 305, 306, 307, 308, 309, 310, 311, 312, 313, 314, 315, 316, 317, 318, 319, 320, 321, 322, 323, 324, 325, 326, 327, 328, 329, 330, 331, 332, 333, 334, 335, 336, 337, 338, 339, 340, 341, 342, 343, 344, 345, 346, 347, 348, 349, 350, 351, 352, 353, 354, 355, 356, 357, 358, 359, 360, 361, 362, 363, 364, 365, 366, 367, 368, 369, 370, 371, 372, 373, 374, 375, 376, 377, 378, 379, 380, 381, 382, 383, 384, 385, 386, 387, 388, 389, 390, 391, 392, 393, 394, 395, 396, 397, 398, 399, 400, 401, 402, 403, 404, 405, 406, 407, 408, 409, 410, 411, 412, 413, 414, 415, 416, 417, 418, 419, 420, 421, 422, 423, 424, 425, 426, 427, 428, 429, 430, 431, 432, 433, 434, 435, 436, 437, 438, 439, 440, 441, 442, 443, 444, 445, 446, 447, 448, 449, 450, 451, 452, 453, 454, 455, 456, 457, 458, 459, 460, 461, 462, 463, 464, 465, 466, 467, 468, 469, 470, 471, 472, 473, 474, 475, 476, 477, 478, 479, 480, 481, 482, 483, 484, 485, 486, 487, 488, 489, 490, 491, 492, 493, 494, 495, 496, 497, 498, 499, 500, 501, 502, 503, 504, 505, 506, 507, 508, 509, 510, 511, 512, 513, 514, 515, 516, 517, 518, 519, 520, 521, 522, 523, 524, 525, 526, 527, 528, 529, 530, 531, 532, 533, 534, 535, 536, 537, 538, 539, 540, 541, 542, 543, 544, 545, 546, 547, 548, 549, 550, 551, 552, 553, 554, 555, 556, 557, 558, 559, 560, 561, 562, 563, 564, 565, 566, 567, 568, 569, 570, 571, 572, 573, 574, 575, 576, 577, 578, 579, 580, 581, 582, 583, 584, 585, 586, 587, 588, 589, 590, 591, 592, 593, 594, 595, 596, 597, 598, 599, 600, 601, 602, 603, 604, 605, 606, 607, 608, 609, 610, 611, 612, 613, 614, 615, 616, 617, 618, 619, 620, 621, 622, 623, 624, 625, 626, 627, 628, 629, 630, 631, 632, 633, 634, 635, 636, 637, 638, 639, 640, 641, 642, 643, 644, 645, 646, 647, 648, 649, 650, 651, 652, 653, 654, 655, 656, 657, 658, 659, 660, 661, 662, 663, 664, 665, 666, 667, 668, 669, 670, 671, 672, 673, 674, 675, 676, 677, 678, 679, 680, 681, 682, 683, 684, 685, 686, 687, 688, 689, 690, 691, 692, 693, 694, 695, 696, 697, 698, 699, 700, 701, 702, 703, 704, 705, 706, 707, 708, 709, 710, 711, 712, 713, 714, 715, 716, 717, 718, 719, 720, 721, 722, 723, 724, 725, 726, 727, 728, 729, 730, 731, 732, 733, 734, 735, 736, 737, 738, 739, 740, 741, 742, 743, 744, 745, 746, 747, 748, 749, 750, 751, 752, 753, 754, 755, 756, 757, 758, 759, 760, 761, 762, 763, 764, 765, 766, 767, 768, 769, 770, 771, 772, 773, 774, 775, 776, 777, 778, 779, 780, 781, 782, 783, 'label']\n"
          ],
          "name": "stdout"
        }
      ]
    },
    {
      "cell_type": "markdown",
      "metadata": {
        "id": "Vop4rwZVxh9Z"
      },
      "source": [
        "##2) Shuffle and split training data as train(80%) and validation(20%) "
      ]
    },
    {
      "cell_type": "code",
      "metadata": {
        "id": "KEhk8R24xhdY",
        "colab": {
          "base_uri": "https://localhost:8080/",
          "height": 332
        },
        "outputId": "56c6cba3-4337-402a-adb0-7c853d64f59a"
      },
      "source": [
        "from sklearn.utils import shuffle\n",
        "from sklearn.model_selection import train_test_split\n",
        "\n",
        "# Shuffle the training data\n",
        "\n",
        "x_train,y_train = shuffle (x_train, y_train, random_state=42)\n",
        "\n",
        "\n",
        "# Split 80-20\n",
        "\n",
        "x_ntrain, x_valid, y_ntrain, y_valid = train_test_split(x_train,y_train, test_size=2/10, random_state=42)\n",
        "print(\"Train data shape:\", x_ntrain.shape, \"Train label shape:\",y_ntrain.shape, \"Validation data shape:\", x_valid.shape, \"Validation label shape:\", y_valid.shape)\n",
        "ntrain_df = pd.DataFrame(x_train.reshape(60000, -1))\n",
        "valid_df = pd.DataFrame(x_valid.reshape(len(x_valid), -1))\n",
        "\n",
        "print(\"New train set\",ntrain_df.head())\n",
        "print(\"Validation set\",ntrain_df.head())\n"
      ],
      "execution_count": null,
      "outputs": [
        {
          "output_type": "stream",
          "text": [
            "Train data shape: (48000, 28, 28) Train label shape: (48000,) Validation data shape: (12000, 28, 28) Validation label shape: (12000,)\n",
            "New train set    0    1    2    3    4    5    6    ...  777  778  779  780  781  782  783\n",
            "0    0    0    0    0    0    0    0  ...    0    0    0    0    0    0    0\n",
            "1    0    0    0    0    0    0    0  ...    0    0    0    0    0    0    0\n",
            "2    0    0    0    0    0    0    0  ...    0    0    0    0    0    0    0\n",
            "3    0    0    0    0    0    0    0  ...    0    0    0    0    0    0    0\n",
            "4    0    0    0    0    0    0    0  ...    0    0    0    0    0    0    0\n",
            "\n",
            "[5 rows x 784 columns]\n",
            "Validation set    0    1    2    3    4    5    6    ...  777  778  779  780  781  782  783\n",
            "0    0    0    0    0    0    0    0  ...    0    0    0    0    0    0    0\n",
            "1    0    0    0    0    0    0    0  ...    0    0    0    0    0    0    0\n",
            "2    0    0    0    0    0    0    0  ...    0    0    0    0    0    0    0\n",
            "3    0    0    0    0    0    0    0  ...    0    0    0    0    0    0    0\n",
            "4    0    0    0    0    0    0    0  ...    0    0    0    0    0    0    0\n",
            "\n",
            "[5 rows x 784 columns]\n"
          ],
          "name": "stdout"
        }
      ]
    },
    {
      "cell_type": "markdown",
      "metadata": {
        "id": "xR1oMsPu0AV_"
      },
      "source": [
        "##3) Training a decision tree classifier on train data and model selection using the validation data\n",
        "\n"
      ]
    },
    {
      "cell_type": "code",
      "metadata": {
        "id": "Nv6oac-T3Wy5",
        "colab": {
          "base_uri": "https://localhost:8080/",
          "height": 383
        },
        "outputId": "9a5d179d-1de8-411b-e390-8d4813132be0"
      },
      "source": [
        "from sklearn.tree import DecisionTreeClassifier\n",
        "from sklearn.metrics import mean_squared_error\n",
        "from sklearn.metrics import accuracy_score\n",
        "import matplotlib.pyplot as plt\n",
        "from sklearn import metrics\n",
        "\n",
        "# Train decision tree classifiers\n",
        "# random state parameter to have the same random value each run\n",
        "\n",
        "class_2 = DecisionTreeClassifier(min_samples_split = 2, random_state = 42)\n",
        "class_5 = DecisionTreeClassifier(min_samples_split = 5, random_state = 42)\n",
        "class_10 = DecisionTreeClassifier(min_samples_split = 10, random_state = 42)\n",
        "\n",
        "x_ntrain_reshaped = x_ntrain.reshape((48000,28*28))\n",
        "class_2.fit(x_ntrain_reshaped,y_ntrain)\n",
        "class_5.fit(x_ntrain_reshaped,y_ntrain)\n",
        "class_10.fit(x_ntrain_reshaped,y_ntrain)\n",
        "\n",
        "# Evaluate on validation set\n",
        "\n",
        "valid_2 = class_2.predict(x_valid.reshape(len(x_valid),-1))\n",
        "valid_5 = class_5.predict(x_valid.reshape(len(x_valid),-1))\n",
        "valid_10 = class_10.predict(x_valid.reshape(len(x_valid),-1))\n",
        "\n",
        "\n",
        "val_acc1 = metrics.accuracy_score(y_valid,valid_2)\n",
        "val_acc2 = metrics.accuracy_score(y_valid,valid_5)\n",
        "val_acc3 = metrics.accuracy_score(y_valid,valid_10)\n",
        "\n",
        "y_train1 = class_2.predict(x_ntrain.reshape(len(x_ntrain),-1))\n",
        "y_train2 = class_5.predict(x_ntrain.reshape(len(x_ntrain),-1))\n",
        "y_train3 = class_10.predict(x_ntrain.reshape(len(x_ntrain),-1))\n",
        "\n",
        "train_acc1 = metrics.accuracy_score(y_ntrain,y_train1)\n",
        "train_acc2 = metrics.accuracy_score(y_ntrain,y_train2)\n",
        "train_acc3 = metrics.accuracy_score(y_ntrain,y_train3)\n",
        "\n",
        "print(\"Accuracy for minimum samples split 2 for validation: \", val_acc1)\n",
        "print(\"Accuracy for minimum samples split 5 for validation: \",val_acc2)\n",
        "print(\"Accuracy for minimum samples split 10 for validation: \", val_acc3)\n",
        "\n",
        "print(\"Accuracy for minimum samples split 2 for training: \", train_acc1)\n",
        "print(\"Accuracy for minimum samples split 5 for training: \",train_acc2)\n",
        "print(\"Accuracy for minimum samples split 10 for training: \", train_acc3)\n",
        "\n",
        "\n",
        "\n",
        "# Plot errors \n",
        "\n",
        "x_axis = ['model1', 'model2', 'model3']\n",
        "train_acc = [train_acc1, train_acc2, train_acc3]\n",
        "val_acc = [val_acc1, val_acc2, val_acc3]\n",
        "plt.scatter(x_axis, val_acc)\n",
        "plt.scatter(x_axis, train_acc)\n",
        "plt.plot(x_axis, val_acc, label = \"Validation acc\")\n",
        "plt.plot(x_axis, train_acc, label = \"Train acc\")\n",
        "plt.xlabel('Models')\n",
        "plt.ylabel('Accuracy')\n",
        "plt.legend()\n",
        "plt.show()\n",
        "\n"
      ],
      "execution_count": null,
      "outputs": [
        {
          "output_type": "stream",
          "text": [
            "Accuracy for minimum samples split 2 for validation:  0.8640833333333333\n",
            "Accuracy for minimum samples split 5 for validation:  0.8688333333333333\n",
            "Accuracy for minimum samples split 10 for validation:  0.86825\n",
            "Accuracy for minimum samples split 2 for training:  1.0\n",
            "Accuracy for minimum samples split 5 for training:  0.9821041666666667\n",
            "Accuracy for minimum samples split 10 for training:  0.9648541666666667\n"
          ],
          "name": "stdout"
        },
        {
          "output_type": "display_data",
          "data": {
            "image/png": "[encoded data removed]",
            "text/plain": [
              "<Figure size 432x288 with 1 Axes>"
            ]
          },
          "metadata": {
            "tags": [],
            "needs_background": "light"
          }
        }
      ]
    },
    {
      "cell_type": "markdown",
      "metadata": {
        "id": "boqe46St1--f"
      },
      "source": [
        "## 4) Testing with the chosen classifier on test set\n",
        " "
      ]
    },
    {
      "cell_type": "code",
      "metadata": {
        "id": "IPLke8jyFGng",
        "colab": {
          "base_uri": "https://localhost:8080/",
          "height": 173
        },
        "outputId": "7a62d60f-5f27-48c4-af4a-7809f32a1bed"
      },
      "source": [
        "from sklearn.metrics import accuracy_score\n",
        "# Load test data\n",
        "# already loaded in the first section\n",
        "\n",
        "test_df = pd.DataFrame(x_test.reshape(len(x_test), -1))\n",
        "test_df['label'] = y_test\n",
        "print(test_df.head())\n",
        "\n",
        "# test prediction using a decision tree with all default parameters and ..... min-split value \n",
        "x_test_reshape = x_test.reshape((10000,28*28))\n",
        "#test_1 = class_2.predict(x_test_reshape)\n",
        "test_2 = class_5.predict(x_test_reshape)\n",
        "#test_3 = class_10.predict(x_test_reshape)\n",
        "\n",
        "\n",
        "# Report your accuracy\n",
        "test_acc = metrics.accuracy_score(y_test,test_2)\n",
        "print(\"Accuracy for minimum samples split 5 for test: \", test_acc)\n",
        "\n",
        "\n",
        "\n"
      ],
      "execution_count": null,
      "outputs": [
        {
          "output_type": "stream",
          "text": [
            "   0  1  2  3  4  5  6  7  8  ...  776  777  778  779  780  781  782  783  label\n",
            "0  0  0  0  0  0  0  0  0  0  ...    0    0    0    0    0    0    0    0      7\n",
            "1  0  0  0  0  0  0  0  0  0  ...    0    0    0    0    0    0    0    0      2\n",
            "2  0  0  0  0  0  0  0  0  0  ...    0    0    0    0    0    0    0    0      1\n",
            "3  0  0  0  0  0  0  0  0  0  ...    0    0    0    0    0    0    0    0      0\n",
            "4  0  0  0  0  0  0  0  0  0  ...    0    0    0    0    0    0    0    0      4\n",
            "\n",
            "[5 rows x 785 columns]\n",
            "Accuracy for minimum samples split 5 for test:  0.8667\n"
          ],
          "name": "stdout"
        }
      ]
    },
    {
      "cell_type": "markdown",
      "metadata": {
        "id": "WG3473I9dGE8"
      },
      "source": [
        "##5) Report \n",
        "\n"
      ]
    },
    {
      "cell_type": "markdown",
      "metadata": {
        "id": "nfeKfkooMhHG"
      },
      "source": [
        "In this assignment, I aimed to develop a Decision Tree Classifier to find the most accurate classifier that will predict the digits in the images in the MNIST dataset. For the dataset, the train set and test set are loaded separately from Keras. The size of the train set is 60000, while the size of the test set is 10000. To generate a validation set, the training set is firstly shuffled, then split with the respected percentage, %80-%20. For data preprocessing, I benefitted from 3 main libraries; Pandas, numPy, and matplotlib. I used \"numpy.reshape\" to make the dataset structure compatible with the functions, panda for converting my dataset into a Dataframe so that the head of the data can be printed & observed, I used Matplotlib to plot the accuracies,split the data for validation, as I mentioned before. After training the decision tree classifier on training data, I used the validation dataset to select a model between 3 classifiers. I received three different accuracy values for three different decision tree classifier values: 2,5 and 10(min_samples_split).\n",
        "\n",
        "    Min Samples Split         Validation Accuracies    \n",
        "        2                       0.8640833333333333\n",
        "        5                       0.8688333333333333\n",
        "       10                         0.86825\n",
        "\n",
        "I have obtained the best result with classifier (min_samples_split = 5) , within the accuracy rate %86,88 on validation set. Therefore I decided to choose this model on test data. The chosen model, with the decision tree classifier (min_samples_split = 5), gave the classificaiton accuracy %86.6 on test data.\n",
        "\n",
        "    "
      ]
    }
  ]
}