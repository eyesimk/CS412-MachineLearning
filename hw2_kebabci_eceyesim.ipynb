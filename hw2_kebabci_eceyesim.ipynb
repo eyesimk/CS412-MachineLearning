{
  "nbformat": 4,
  "nbformat_minor": 0,
  "metadata": {
    "colab": {
      "name": "hw2-kebabci-eceyesim",
      "provenance": [],
      "collapsed_sections": [],
      "toc_visible": true,
      "include_colab_link": true
    },
    "kernelspec": {
      "name": "python3",
      "display_name": "Python 3"
    }
  },
  "cells": [
    {
      "cell_type": "markdown",
      "metadata": {
        "id": "view-in-github",
        "colab_type": "text"
      },
      "source": [
        "<a href=\"https://colab.research.google.com/github/eyesimk/CS412-MachineLearning/blob/main/hw2_kebabci_eceyesim.ipynb\" target=\"_parent\"><img src=\"https://colab.research.google.com/assets/colab-badge.svg\" alt=\"Open In Colab\"/></a>"
      ]
    },
    {
      "cell_type": "code",
      "metadata": {
        "id": "nSkAsSwDfB0H",
        "colab": {
          "base_uri": "https://localhost:8080/"
        },
        "outputId": "faf8784f-87d7-4f20-b9eb-236eeff0b50a"
      },
      "source": [
        "from google.colab import drive\n",
        "drive.mount('/content/drive')"
      ],
      "execution_count": null,
      "outputs": [
        {
          "output_type": "stream",
          "text": [
            "Drive already mounted at /content/drive; to attempt to forcibly remount, call drive.mount(\"/content/drive\", force_remount=True).\n"
          ],
          "name": "stdout"
        }
      ]
    },
    {
      "cell_type": "markdown",
      "metadata": {
        "id": "X9WhAm9Ii-SH"
      },
      "source": [
        "# 1) Initialization\n",
        "\n",
        "First, make a copy of this notebook in your drive"
      ]
    },
    {
      "cell_type": "code",
      "metadata": {
        "id": "V99blGJZ02tQ",
        "colab": {
          "base_uri": "https://localhost:8080/"
        },
        "outputId": "9155c04b-504f-4c40-bdc1-6a07fb81ca28"
      },
      "source": [
        "# Mount to your drive, in this way you can reach files that are in your drive\n",
        "# Run this cell\n",
        "# Go through the link that will be showed below\n",
        "# Select your google drive account and copy authorization code and paste here in output and press enter\n",
        "# You can also follow the steps from that link\n",
        "# https://medium.com/ml-book/simplest-way-to-open-files-from-google-drive-in-google-colab-fae14810674 \n",
        "\n",
        "from google.colab import drive\n",
        "drive.mount('/content/drive')"
      ],
      "execution_count": null,
      "outputs": [
        {
          "output_type": "stream",
          "text": [
            "Drive already mounted at /content/drive; to attempt to forcibly remount, call drive.mount(\"/content/drive\", force_remount=True).\n"
          ],
          "name": "stdout"
        }
      ]
    },
    {
      "cell_type": "markdown",
      "metadata": {
        "id": "fLcZp_XKjp2N"
      },
      "source": [
        "# 2) Loading Dataset\n",
        "\n",
        "To start working for your homework, take a copy of the folder, given in the below link to your own google drive. You find the train and test data under this folder.\n",
        "\n",
        "[https://drive.google.com/drive/folders/1DbW6VxLKZv2oqFn9SwxAnVadmn1_nPXi?usp=sharing](https://drive.google.com/drive/folders/1DbW6VxLKZv2oqFn9SwxAnVadmn1_nPXi?usp=sharing)\n",
        "\n",
        "After copy the folder, copy the path of the train and test dataset to paste them in the below cell to load your data.\n"
      ]
    },
    {
      "cell_type": "code",
      "metadata": {
        "id": "jSZvqTSTbsv8"
      },
      "source": [
        "import pandas as pd\n",
        "\n",
        "train_df = pd.read_csv('/content/drive/My Drive/CS412-HW2/Copy of german_credit_train.csv')\n",
        "test_df = pd.read_csv('/content/drive/My Drive/CS412-HW2/Copy of german_credit_test.csv')"
      ],
      "execution_count": null,
      "outputs": []
    },
    {
      "cell_type": "markdown",
      "metadata": {
        "id": "q4PwZVkZkCZQ"
      },
      "source": [
        "# 3) Analyze of the Dataset \n",
        "\n"
      ]
    },
    {
      "cell_type": "code",
      "metadata": {
        "id": "-XdZUTLqkAw7",
        "colab": {
          "base_uri": "https://localhost:8080/",
          "height": 255
        },
        "outputId": "6ec3617e-9555-4f6d-97d9-4e307cb6f563"
      },
      "source": [
        "# Print shape\n",
        "print(\"Train data dimensionality: \", train_df.shape )\n",
        "\n",
        "# Print random 5 rows\n",
        "print(\"Examples from train data: \")\n",
        "train_df.head()\n"
      ],
      "execution_count": null,
      "outputs": [
        {
          "output_type": "stream",
          "text": [
            "Train data dimensionality:  (800, 13)\n",
            "Examples from train data: \n"
          ],
          "name": "stdout"
        },
        {
          "output_type": "execute_result",
          "data": {
            "text/html": [
              "<div>\n",
              "<style scoped>\n",
              "    .dataframe tbody tr th:only-of-type {\n",
              "        vertical-align: middle;\n",
              "    }\n",
              "\n",
              "    .dataframe tbody tr th {\n",
              "        vertical-align: top;\n",
              "    }\n",
              "\n",
              "    .dataframe thead th {\n",
              "        text-align: right;\n",
              "    }\n",
              "</style>\n",
              "<table border=\"1\" class=\"dataframe\">\n",
              "  <thead>\n",
              "    <tr style=\"text-align: right;\">\n",
              "      <th></th>\n",
              "      <th>AccountStatus</th>\n",
              "      <th>Duration</th>\n",
              "      <th>CreditHistory</th>\n",
              "      <th>CreditAmount</th>\n",
              "      <th>SavingsAccount</th>\n",
              "      <th>EmploymentSince</th>\n",
              "      <th>PercentOfIncome</th>\n",
              "      <th>PersonalStatus</th>\n",
              "      <th>Property</th>\n",
              "      <th>Age</th>\n",
              "      <th>OtherInstallPlans</th>\n",
              "      <th>Housing</th>\n",
              "      <th>Risk</th>\n",
              "    </tr>\n",
              "  </thead>\n",
              "  <tbody>\n",
              "    <tr>\n",
              "      <th>0</th>\n",
              "      <td>A14</td>\n",
              "      <td>12</td>\n",
              "      <td>A32</td>\n",
              "      <td>2859</td>\n",
              "      <td>A65</td>\n",
              "      <td>A71</td>\n",
              "      <td>4</td>\n",
              "      <td>A93</td>\n",
              "      <td>A124</td>\n",
              "      <td>38</td>\n",
              "      <td>A143</td>\n",
              "      <td>A152</td>\n",
              "      <td>1</td>\n",
              "    </tr>\n",
              "    <tr>\n",
              "      <th>1</th>\n",
              "      <td>A11</td>\n",
              "      <td>9</td>\n",
              "      <td>A32</td>\n",
              "      <td>2136</td>\n",
              "      <td>A61</td>\n",
              "      <td>A73</td>\n",
              "      <td>3</td>\n",
              "      <td>A93</td>\n",
              "      <td>A121</td>\n",
              "      <td>25</td>\n",
              "      <td>A143</td>\n",
              "      <td>A152</td>\n",
              "      <td>1</td>\n",
              "    </tr>\n",
              "    <tr>\n",
              "      <th>2</th>\n",
              "      <td>A11</td>\n",
              "      <td>18</td>\n",
              "      <td>A34</td>\n",
              "      <td>5302</td>\n",
              "      <td>A61</td>\n",
              "      <td>A75</td>\n",
              "      <td>2</td>\n",
              "      <td>A93</td>\n",
              "      <td>A124</td>\n",
              "      <td>36</td>\n",
              "      <td>A143</td>\n",
              "      <td>A153</td>\n",
              "      <td>1</td>\n",
              "    </tr>\n",
              "    <tr>\n",
              "      <th>3</th>\n",
              "      <td>A11</td>\n",
              "      <td>14</td>\n",
              "      <td>A32</td>\n",
              "      <td>8978</td>\n",
              "      <td>A61</td>\n",
              "      <td>A75</td>\n",
              "      <td>1</td>\n",
              "      <td>A91</td>\n",
              "      <td>A122</td>\n",
              "      <td>45</td>\n",
              "      <td>A143</td>\n",
              "      <td>A152</td>\n",
              "      <td>2</td>\n",
              "    </tr>\n",
              "    <tr>\n",
              "      <th>4</th>\n",
              "      <td>A14</td>\n",
              "      <td>15</td>\n",
              "      <td>A32</td>\n",
              "      <td>4623</td>\n",
              "      <td>A62</td>\n",
              "      <td>A73</td>\n",
              "      <td>3</td>\n",
              "      <td>A93</td>\n",
              "      <td>A122</td>\n",
              "      <td>40</td>\n",
              "      <td>A143</td>\n",
              "      <td>A152</td>\n",
              "      <td>2</td>\n",
              "    </tr>\n",
              "  </tbody>\n",
              "</table>\n",
              "</div>"
            ],
            "text/plain": [
              "  AccountStatus  Duration CreditHistory  ...  OtherInstallPlans Housing Risk\n",
              "0           A14        12           A32  ...               A143    A152    1\n",
              "1           A11         9           A32  ...               A143    A152    1\n",
              "2           A11        18           A34  ...               A143    A153    1\n",
              "3           A11        14           A32  ...               A143    A152    2\n",
              "4           A14        15           A32  ...               A143    A152    2\n",
              "\n",
              "[5 rows x 13 columns]"
            ]
          },
          "metadata": {
            "tags": []
          },
          "execution_count": 1380
        }
      ]
    },
    {
      "cell_type": "code",
      "metadata": {
        "id": "NLL4s7GFsBVJ",
        "colab": {
          "base_uri": "https://localhost:8080/"
        },
        "outputId": "909ddf07-3ba0-4f6c-fa63-2193ac2c807e"
      },
      "source": [
        "# Print the information about the dataset\n",
        "print(\"Information about train data \", train_df.info())"
      ],
      "execution_count": null,
      "outputs": [
        {
          "output_type": "stream",
          "text": [
            "<class 'pandas.core.frame.DataFrame'>\n",
            "RangeIndex: 800 entries, 0 to 799\n",
            "Data columns (total 13 columns):\n",
            " #   Column             Non-Null Count  Dtype \n",
            "---  ------             --------------  ----- \n",
            " 0   AccountStatus      800 non-null    object\n",
            " 1   Duration           800 non-null    int64 \n",
            " 2   CreditHistory      800 non-null    object\n",
            " 3   CreditAmount       800 non-null    int64 \n",
            " 4   SavingsAccount     800 non-null    object\n",
            " 5   EmploymentSince    800 non-null    object\n",
            " 6   PercentOfIncome    800 non-null    int64 \n",
            " 7   PersonalStatus     800 non-null    object\n",
            " 8   Property           800 non-null    object\n",
            " 9   Age                800 non-null    int64 \n",
            " 10  OtherInstallPlans  800 non-null    object\n",
            " 11  Housing            720 non-null    object\n",
            " 12  Risk               800 non-null    int64 \n",
            "dtypes: int64(5), object(8)\n",
            "memory usage: 81.4+ KB\n",
            "Information about train data  None\n"
          ],
          "name": "stdout"
        }
      ]
    },
    {
      "cell_type": "markdown",
      "metadata": {
        "id": "_yVSSt0mtH0W"
      },
      "source": [
        "# 4) Defining train and test labels\n",
        "\n",
        "\n"
      ]
    },
    {
      "cell_type": "code",
      "metadata": {
        "id": "heg3V6IssehF",
        "colab": {
          "base_uri": "https://localhost:8080/"
        },
        "outputId": "41d856dd-8ec8-4079-b555-3e6ab9b4dcb8"
      },
      "source": [
        "# Define labels\n",
        "train_label = train_df['Risk']\n",
        "test_label = test_df['Risk']\n",
        "\n",
        "train_df.pop('Risk')\n",
        "test_df.pop('Risk')\n",
        "\n",
        "train_df.info()"
      ],
      "execution_count": null,
      "outputs": [
        {
          "output_type": "stream",
          "text": [
            "<class 'pandas.core.frame.DataFrame'>\n",
            "RangeIndex: 800 entries, 0 to 799\n",
            "Data columns (total 12 columns):\n",
            " #   Column             Non-Null Count  Dtype \n",
            "---  ------             --------------  ----- \n",
            " 0   AccountStatus      800 non-null    object\n",
            " 1   Duration           800 non-null    int64 \n",
            " 2   CreditHistory      800 non-null    object\n",
            " 3   CreditAmount       800 non-null    int64 \n",
            " 4   SavingsAccount     800 non-null    object\n",
            " 5   EmploymentSince    800 non-null    object\n",
            " 6   PercentOfIncome    800 non-null    int64 \n",
            " 7   PersonalStatus     800 non-null    object\n",
            " 8   Property           800 non-null    object\n",
            " 9   Age                800 non-null    int64 \n",
            " 10  OtherInstallPlans  800 non-null    object\n",
            " 11  Housing            720 non-null    object\n",
            "dtypes: int64(4), object(8)\n",
            "memory usage: 75.1+ KB\n"
          ],
          "name": "stdout"
        }
      ]
    },
    {
      "cell_type": "markdown",
      "metadata": {
        "id": "LGw3v-ai4jTN"
      },
      "source": [
        "# 5) Handling missing values\n",
        "\n",
        "\n"
      ]
    },
    {
      "cell_type": "code",
      "metadata": {
        "id": "8TNKte7c8EpR",
        "colab": {
          "base_uri": "https://localhost:8080/"
        },
        "outputId": "0aec2e1f-8900-427d-ff3d-dcca3cb0d6f4"
      },
      "source": [
        "# Print columns with NaN values\n",
        "print(\"NaN value percentage in Housing: %\", train_df['Housing'].isnull().sum() /len(train_df) * 100)\n",
        "#Since it is only %10, we can impute it."
      ],
      "execution_count": null,
      "outputs": [
        {
          "output_type": "stream",
          "text": [
            "NaN value percentage in Housing: % 10.0\n"
          ],
          "name": "stdout"
        }
      ]
    },
    {
      "cell_type": "code",
      "metadata": {
        "id": "Hd6s66xKLEiO"
      },
      "source": [
        "# Impute missing values by replacing with mode value\n",
        "train_df['Housing'] = train_df['Housing'].fillna(train_df['Housing'].mode()[0])\n",
        "\n",
        "test_df['Housing'] = test_df['Housing'].fillna(train_df['Housing'].mode()[0])"
      ],
      "execution_count": null,
      "outputs": []
    },
    {
      "cell_type": "markdown",
      "metadata": {
        "id": "KkgqFpyr2BrX"
      },
      "source": [
        "# 6) Transforming categorical / ordinal features\n",
        "\n"
      ]
    },
    {
      "cell_type": "code",
      "metadata": {
        "id": "MYIesxE-f2RJ"
      },
      "source": [
        "# Transform the categorical / ordinal attributes\n",
        "\n",
        "#Transformation for ordinal attributes\n",
        "\n",
        "savings_map = {'A65':0, 'A61':1,'A62':2,'A63':3, 'A64': 4}\n",
        "train_df['SavingsAccount'] = train_df['SavingsAccount'].replace(savings_map)\n",
        "test_df['SavingsAccount'] = test_df['SavingsAccount'].replace(savings_map)\n",
        "\n",
        "accountst_map = {'A14':0, 'A11':1,'A12':2,'A13':3}\n",
        "train_df['AccountStatus'] = train_df['AccountStatus'].replace(accountst_map)\n",
        "test_df['AccountStatus'] = test_df['AccountStatus'].replace(accountst_map)\n",
        "\n",
        "employment_map = {'A71':0,'A72':1,'A73':2,'A74':3,'A75':4}\n",
        "train_df['EmploymentSince'] = train_df['EmploymentSince'].replace(employment_map)\n",
        "test_df['EmploymentSince'] = test_df['EmploymentSince'].replace(employment_map)"
      ],
      "execution_count": null,
      "outputs": []
    },
    {
      "cell_type": "code",
      "metadata": {
        "id": "Evng6_DyYevs",
        "colab": {
          "base_uri": "https://localhost:8080/",
          "height": 220
        },
        "outputId": "a1858f16-ec49-4e88-ec06-be1655e075ab"
      },
      "source": [
        "#Transformation for categorical attributes\n",
        "'''\n",
        "credit_dummies = pd.get_dummies(train_df['CreditHistory'], prefix = 'credit')\n",
        "print(credit_dummies.head())\n",
        "\n",
        "personal_dummies = pd.get_dummies(train_df['PersonalStatus'], prefix = 'personal')\n",
        "print(personal_dummies.head())\n",
        "\n",
        "housing_dummies = pd.get_dummies(train_df['Housing'], prefix = 'housing')\n",
        "print(housing_dummies.head())\n",
        "\n",
        "property_dummies = pd.get_dummies(train_df['Property'], prefix = 'property')\n",
        "print(property_dummies.head())\n",
        "\n",
        "otherinstall_dummies = pd.get_dummies(train_df['OtherInstallPlans'], prefix = 'otherinstall')\n",
        "print(otherinstall_dummies.head())\n",
        "'''\n",
        "\n",
        "\n",
        "from sklearn.preprocessing import OneHotEncoder\n",
        "\n",
        "enc = OneHotEncoder(handle_unknown='ignore')\n",
        "\n",
        "dummies = enc.fit_transform(train_df[['CreditHistory', 'PersonalStatus', 'Housing','Property','OtherInstallPlans']]).toarray()\n",
        "dummies = pd.DataFrame(dummies)\n",
        "train_df = pd.merge(train_df,dummies,right_index = True, left_index = True)\n",
        "train_df = train_df.drop(columns = ['CreditHistory', 'PersonalStatus', 'Housing','Property','OtherInstallPlans'])\n",
        "\n",
        "dummies_test = enc.transform(test_df[['CreditHistory', 'PersonalStatus', 'Housing','Property','OtherInstallPlans']]).toarray()\n",
        "dummies_test = pd.DataFrame(dummies_test)\n",
        "test_df = pd.merge(test_df,dummies_test,right_index = True, left_index = True)\n",
        "test_df = test_df.drop(columns = ['CreditHistory', 'PersonalStatus', 'Housing','Property','OtherInstallPlans'])\n",
        "\n",
        "train_df.head()"
      ],
      "execution_count": null,
      "outputs": [
        {
          "output_type": "execute_result",
          "data": {
            "text/html": [
              "<div>\n",
              "<style scoped>\n",
              "    .dataframe tbody tr th:only-of-type {\n",
              "        vertical-align: middle;\n",
              "    }\n",
              "\n",
              "    .dataframe tbody tr th {\n",
              "        vertical-align: top;\n",
              "    }\n",
              "\n",
              "    .dataframe thead th {\n",
              "        text-align: right;\n",
              "    }\n",
              "</style>\n",
              "<table border=\"1\" class=\"dataframe\">\n",
              "  <thead>\n",
              "    <tr style=\"text-align: right;\">\n",
              "      <th></th>\n",
              "      <th>AccountStatus</th>\n",
              "      <th>Duration</th>\n",
              "      <th>CreditAmount</th>\n",
              "      <th>SavingsAccount</th>\n",
              "      <th>EmploymentSince</th>\n",
              "      <th>PercentOfIncome</th>\n",
              "      <th>Age</th>\n",
              "      <th>0</th>\n",
              "      <th>1</th>\n",
              "      <th>2</th>\n",
              "      <th>3</th>\n",
              "      <th>4</th>\n",
              "      <th>5</th>\n",
              "      <th>6</th>\n",
              "      <th>7</th>\n",
              "      <th>8</th>\n",
              "      <th>9</th>\n",
              "      <th>10</th>\n",
              "      <th>11</th>\n",
              "      <th>12</th>\n",
              "      <th>13</th>\n",
              "      <th>14</th>\n",
              "      <th>15</th>\n",
              "      <th>16</th>\n",
              "      <th>17</th>\n",
              "      <th>18</th>\n",
              "    </tr>\n",
              "  </thead>\n",
              "  <tbody>\n",
              "    <tr>\n",
              "      <th>0</th>\n",
              "      <td>0</td>\n",
              "      <td>12</td>\n",
              "      <td>2859</td>\n",
              "      <td>0</td>\n",
              "      <td>0</td>\n",
              "      <td>4</td>\n",
              "      <td>38</td>\n",
              "      <td>0.0</td>\n",
              "      <td>0.0</td>\n",
              "      <td>1.0</td>\n",
              "      <td>0.0</td>\n",
              "      <td>0.0</td>\n",
              "      <td>0.0</td>\n",
              "      <td>0.0</td>\n",
              "      <td>1.0</td>\n",
              "      <td>0.0</td>\n",
              "      <td>0.0</td>\n",
              "      <td>1.0</td>\n",
              "      <td>0.0</td>\n",
              "      <td>0.0</td>\n",
              "      <td>0.0</td>\n",
              "      <td>0.0</td>\n",
              "      <td>1.0</td>\n",
              "      <td>0.0</td>\n",
              "      <td>0.0</td>\n",
              "      <td>1.0</td>\n",
              "    </tr>\n",
              "    <tr>\n",
              "      <th>1</th>\n",
              "      <td>1</td>\n",
              "      <td>9</td>\n",
              "      <td>2136</td>\n",
              "      <td>1</td>\n",
              "      <td>2</td>\n",
              "      <td>3</td>\n",
              "      <td>25</td>\n",
              "      <td>0.0</td>\n",
              "      <td>0.0</td>\n",
              "      <td>1.0</td>\n",
              "      <td>0.0</td>\n",
              "      <td>0.0</td>\n",
              "      <td>0.0</td>\n",
              "      <td>0.0</td>\n",
              "      <td>1.0</td>\n",
              "      <td>0.0</td>\n",
              "      <td>0.0</td>\n",
              "      <td>1.0</td>\n",
              "      <td>0.0</td>\n",
              "      <td>1.0</td>\n",
              "      <td>0.0</td>\n",
              "      <td>0.0</td>\n",
              "      <td>0.0</td>\n",
              "      <td>0.0</td>\n",
              "      <td>0.0</td>\n",
              "      <td>1.0</td>\n",
              "    </tr>\n",
              "    <tr>\n",
              "      <th>2</th>\n",
              "      <td>1</td>\n",
              "      <td>18</td>\n",
              "      <td>5302</td>\n",
              "      <td>1</td>\n",
              "      <td>4</td>\n",
              "      <td>2</td>\n",
              "      <td>36</td>\n",
              "      <td>0.0</td>\n",
              "      <td>0.0</td>\n",
              "      <td>0.0</td>\n",
              "      <td>0.0</td>\n",
              "      <td>1.0</td>\n",
              "      <td>0.0</td>\n",
              "      <td>0.0</td>\n",
              "      <td>1.0</td>\n",
              "      <td>0.0</td>\n",
              "      <td>0.0</td>\n",
              "      <td>0.0</td>\n",
              "      <td>1.0</td>\n",
              "      <td>0.0</td>\n",
              "      <td>0.0</td>\n",
              "      <td>0.0</td>\n",
              "      <td>1.0</td>\n",
              "      <td>0.0</td>\n",
              "      <td>0.0</td>\n",
              "      <td>1.0</td>\n",
              "    </tr>\n",
              "    <tr>\n",
              "      <th>3</th>\n",
              "      <td>1</td>\n",
              "      <td>14</td>\n",
              "      <td>8978</td>\n",
              "      <td>1</td>\n",
              "      <td>4</td>\n",
              "      <td>1</td>\n",
              "      <td>45</td>\n",
              "      <td>0.0</td>\n",
              "      <td>0.0</td>\n",
              "      <td>1.0</td>\n",
              "      <td>0.0</td>\n",
              "      <td>0.0</td>\n",
              "      <td>1.0</td>\n",
              "      <td>0.0</td>\n",
              "      <td>0.0</td>\n",
              "      <td>0.0</td>\n",
              "      <td>0.0</td>\n",
              "      <td>1.0</td>\n",
              "      <td>0.0</td>\n",
              "      <td>0.0</td>\n",
              "      <td>1.0</td>\n",
              "      <td>0.0</td>\n",
              "      <td>0.0</td>\n",
              "      <td>0.0</td>\n",
              "      <td>0.0</td>\n",
              "      <td>1.0</td>\n",
              "    </tr>\n",
              "    <tr>\n",
              "      <th>4</th>\n",
              "      <td>0</td>\n",
              "      <td>15</td>\n",
              "      <td>4623</td>\n",
              "      <td>2</td>\n",
              "      <td>2</td>\n",
              "      <td>3</td>\n",
              "      <td>40</td>\n",
              "      <td>0.0</td>\n",
              "      <td>0.0</td>\n",
              "      <td>1.0</td>\n",
              "      <td>0.0</td>\n",
              "      <td>0.0</td>\n",
              "      <td>0.0</td>\n",
              "      <td>0.0</td>\n",
              "      <td>1.0</td>\n",
              "      <td>0.0</td>\n",
              "      <td>0.0</td>\n",
              "      <td>1.0</td>\n",
              "      <td>0.0</td>\n",
              "      <td>0.0</td>\n",
              "      <td>1.0</td>\n",
              "      <td>0.0</td>\n",
              "      <td>0.0</td>\n",
              "      <td>0.0</td>\n",
              "      <td>0.0</td>\n",
              "      <td>1.0</td>\n",
              "    </tr>\n",
              "  </tbody>\n",
              "</table>\n",
              "</div>"
            ],
            "text/plain": [
              "   AccountStatus  Duration  CreditAmount  SavingsAccount  ...   15   16   17   18\n",
              "0              0        12          2859               0  ...  1.0  0.0  0.0  1.0\n",
              "1              1         9          2136               1  ...  0.0  0.0  0.0  1.0\n",
              "2              1        18          5302               1  ...  1.0  0.0  0.0  1.0\n",
              "3              1        14          8978               1  ...  0.0  0.0  0.0  1.0\n",
              "4              0        15          4623               2  ...  0.0  0.0  0.0  1.0\n",
              "\n",
              "[5 rows x 26 columns]"
            ]
          },
          "metadata": {
            "tags": []
          },
          "execution_count": 1386
        }
      ]
    },
    {
      "cell_type": "markdown",
      "metadata": {
        "id": "eVcTCh9-AnFv"
      },
      "source": [
        "# 7) Build a k-NN classifier on training data and perform models selection using 5 fold cross validation\n",
        "\n",
        "*  Initialization of k-NN classifiers with **k= 5, 10, 15**\n",
        "*  Calculating the cross validation scores using cross_al_score method, number of folds is 5. \n",
        "*  Storing the average accuracies of these folds\n",
        "*  Selecting the value of k using the cross validation results. "
      ]
    },
    {
      "cell_type": "code",
      "metadata": {
        "id": "ficAs0W52b8r",
        "colab": {
          "base_uri": "https://localhost:8080/"
        },
        "outputId": "060ef67c-8b68-4d54-8451-37d19a6b259a"
      },
      "source": [
        "from sklearn.neighbors import KNeighborsClassifier\n",
        "from sklearn.model_selection import cross_val_score\n",
        "from statistics import mean\n",
        "import numpy as np\n",
        "\n",
        "# k values\n",
        "kVals = [5,10,15]\n",
        "\n",
        "# Save the accuracies of each value of kVal in [accuracies] variable\n",
        "accuracies = []\n",
        "\n",
        "# Loop over values of k for the k-Nearest Neighbor classifier\n",
        "for k in kVals:\n",
        "  # Initialize a k-NN classifier with k neighbors\n",
        "  neigh = KNeighborsClassifier(n_neighbors= k)\n",
        "  std = []\n",
        "  # Calculate the 5 fold cross validation scores using cross_val_score\n",
        "  # cv parameter: number of folds, in our case it must be 5\n",
        "  scores = cross_val_score(neigh,train_df,train_label, cv = 5)\n",
        "  std.append(scores)\n",
        "  # Stores the average accuracies of the scores in accuracies variable, you can use mean method\n",
        "  accuracies.append(mean(scores))\n",
        "  print(\"Standart Deviation for value:\" ,k,\" \", np.std(std))\n",
        "print(accuracies)\n"
      ],
      "execution_count": null,
      "outputs": [
        {
          "output_type": "stream",
          "text": [
            "Standart Deviation for value: 5   0.03292984968079871\n",
            "Standart Deviation for value: 10   0.006123724356957952\n",
            "Standart Deviation for value: 15   0.011592023119369639\n",
            "[0.67625, 0.7075, 0.71]\n"
          ],
          "name": "stdout"
        }
      ]
    },
    {
      "cell_type": "markdown",
      "metadata": {
        "id": "_t4ss1Ixglor"
      },
      "source": [
        "# 8) Retrain using all training data and test on test set\n",
        "\n",
        "* Training a classifier with the chosen k value of the best classifier using **all training data**. \n",
        "\n",
        "* Predicting the labels of testing data \n",
        "\n",
        "* Reporting the accuracy "
      ]
    },
    {
      "cell_type": "code",
      "metadata": {
        "id": "Qi3pfvaBKTcg",
        "colab": {
          "base_uri": "https://localhost:8080/"
        },
        "outputId": "8b2aa75a-a2e2-4a8c-dae4-44d555ed626d"
      },
      "source": [
        "from sklearn.metrics import accuracy_score\n",
        "\n",
        "\n",
        "# Train the best classifier using all training set\n",
        "best_kNN = KNeighborsClassifier(n_neighbors= kVals[np.argmax(accuracies)])\n",
        "best_kNN.fit(train_df, train_label)\n",
        "\n",
        "# Estimate the prediction of the test data\n",
        "preds = best_kNN.predict(test_df)\n",
        "\n",
        "# Print accuracy of test data\n",
        "accuracy = accuracy_score(test_label, preds)\n",
        "print(accuracy)"
      ],
      "execution_count": null,
      "outputs": [
        {
          "output_type": "stream",
          "text": [
            "0.665\n"
          ],
          "name": "stdout"
        }
      ]
    },
    {
      "cell_type": "code",
      "metadata": {
        "id": "eTnB4ZMviQGV",
        "colab": {
          "base_uri": "https://localhost:8080/"
        },
        "outputId": "6ac28668-fb51-48b2-fcd1-95380409aff7"
      },
      "source": [
        "from sklearn import preprocessing\n",
        "normalized_train = preprocessing.normalize(train_df)\n",
        "normalized_test = preprocessing.normalize(test_df)\n",
        "\n",
        "# Train the best classifier using all training set\n",
        "best_kNN = KNeighborsClassifier(n_neighbors= 15)\n",
        "best_kNN.fit(normalized_train, train_label)\n",
        "\n",
        "# Estimate the prediction of the test data\n",
        "preds = best_kNN.predict(normalized_test)\n",
        "\n",
        "# Print accuracy of test data\n",
        "accuracy = accuracy_score(test_label, preds)\n",
        "print(accuracy)"
      ],
      "execution_count": null,
      "outputs": [
        {
          "output_type": "stream",
          "text": [
            "0.7\n"
          ],
          "name": "stdout"
        }
      ]
    },
    {
      "cell_type": "code",
      "metadata": {
        "id": "bXXuM-AzqcHN"
      },
      "source": [
        "#I obtained a better test accuracy with k = 15, feature normalization within the rate of 70%. "
      ],
      "execution_count": null,
      "outputs": []
    },
    {
      "cell_type": "markdown",
      "metadata": {
        "id": "C5AuzuKliQiY"
      },
      "source": [
        "# 9) Report\n"
      ]
    },
    {
      "cell_type": "markdown",
      "metadata": {
        "id": "fjvcd-L_5C4C"
      },
      "source": [
        "In this assignment, the aim was to classify people as bad or good credit risks according to the given attributes from german credit dataset by building a k-NN classifier. Before starting, I made some operations for preprecessing. Firstly, with the shape() function I observed how many entries exists in the dataset, later within the info() function I realised that there are missing values for Housing column.When I calculated the percentage of missing values, I have reached the solution 10%, so I decided to impute it. Afterward I transformed the Ordinal features(Account Status, Account Savings, Employment Since) with mapping and the Categorical features (Creedit History, Personal Status, Property, Other Install Plans, Housing) with one hot encoding.After the preprocessing is over, I started building k-NN classifiers with k= 5, 10, 15. The average validation accuracies were: \n",
        "*  k= 5 -> 0.67625 \n",
        "*  k= 10 -> 0.7075\n",
        "*  k= 15 -> 0.71 \n",
        "\n",
        "And the corresponding standart deviations were:  \n",
        "\n",
        "*   k= 5 -> 0.03292984968079871\n",
        "*   k= 10 -> 0.006123724356957952\n",
        "*   k= 15 -> 0.011592023119369639\n",
        "\n",
        "According to the validation accuracies I have chosen the k value = 15, with accuracy score 71%. Afterward, I have obtained 66.5% accuracy rate on test data within the chosen classifier (k = 15).\n",
        "For the bonus part, I decided to do feature normalization and choose the same value for kNN classifier.When the necessary operations were completed I obtained the classification accuracy of 70% on test data with (k=15) which is  better than the first result.\n",
        "\n",
        " "
      ]
    }
  ]
}